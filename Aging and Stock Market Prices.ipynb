{
 "cells": [
  {
   "cell_type": "code",
   "execution_count": 91,
   "metadata": {},
   "outputs": [],
   "source": [
    "#Import dependencies \n",
    "\n",
    "import pandas as pd\n",
    "import matplotlib.pyplot as plt\n",
    "import numpy as np\n",
    "import scipy.stats as stats\n",
    "from scipy import signal\n",
    "from scipy.signal import savgol_filter\n",
    "from scipy.stats import zscore\n",
    "import sklearn # library for various machine learning and data scaling/normalization tools\n",
    "from sklearn import preprocessing\n",
    "from sklearn.linear_model import LinearRegression\n",
    "from sklearn.preprocessing import PolynomialFeatures\n",
    "import warnings\n",
    "warnings.filterwarnings('ignore')"
   ]
  },
  {
   "cell_type": "code",
   "execution_count": 39,
   "metadata": {},
   "outputs": [],
   "source": [
    "pop_path = \"Resources/pop.csv\"\n",
    "pe_mo_path = \"Resources/PE_MO.csv\"\n",
    "\n",
    "population = pd.read_csv(pop_path, encoding = \"utf-8\", header=0)\n",
    "\n",
    "pe_mo = pd.read_csv(pe_mo_path, encoding = \"utf-8\")"
   ]
  },
  {
   "cell_type": "code",
   "execution_count": 92,
   "metadata": {},
   "outputs": [
    {
     "data": {
      "text/html": [
       "<div>\n",
       "<style scoped>\n",
       "    .dataframe tbody tr th:only-of-type {\n",
       "        vertical-align: middle;\n",
       "    }\n",
       "\n",
       "    .dataframe tbody tr th {\n",
       "        vertical-align: top;\n",
       "    }\n",
       "\n",
       "    .dataframe thead th {\n",
       "        text-align: right;\n",
       "    }\n",
       "</style>\n",
       "<table border=\"1\" class=\"dataframe\">\n",
       "  <thead>\n",
       "    <tr style=\"text-align: right;\">\n",
       "      <th></th>\n",
       "      <th>Age</th>\n",
       "      <th>1950</th>\n",
       "      <th>1951</th>\n",
       "      <th>1952</th>\n",
       "      <th>1953</th>\n",
       "      <th>1954</th>\n",
       "      <th>1955</th>\n",
       "      <th>1956</th>\n",
       "      <th>1957</th>\n",
       "      <th>1958</th>\n",
       "      <th>...</th>\n",
       "      <th>2051</th>\n",
       "      <th>2052</th>\n",
       "      <th>2053</th>\n",
       "      <th>2054</th>\n",
       "      <th>2055</th>\n",
       "      <th>2056</th>\n",
       "      <th>2057</th>\n",
       "      <th>2058</th>\n",
       "      <th>2059</th>\n",
       "      <th>2060</th>\n",
       "    </tr>\n",
       "  </thead>\n",
       "  <tbody>\n",
       "    <tr>\n",
       "      <th>0</th>\n",
       "      <td>&lt;10</td>\n",
       "      <td>29785.000</td>\n",
       "      <td>31001.00</td>\n",
       "      <td>32123.000</td>\n",
       "      <td>32971.000</td>\n",
       "      <td>34089.000</td>\n",
       "      <td>35315.000</td>\n",
       "      <td>36656.000</td>\n",
       "      <td>37118.000</td>\n",
       "      <td>37828.000</td>\n",
       "      <td>...</td>\n",
       "      <td>48301.000</td>\n",
       "      <td>48493.000</td>\n",
       "      <td>48672.000</td>\n",
       "      <td>48840.000</td>\n",
       "      <td>48995.000</td>\n",
       "      <td>49140.000</td>\n",
       "      <td>49274.000</td>\n",
       "      <td>49400.000</td>\n",
       "      <td>49520.00</td>\n",
       "      <td>49635.000</td>\n",
       "    </tr>\n",
       "    <tr>\n",
       "      <th>1</th>\n",
       "      <td>10-19</td>\n",
       "      <td>21888.000</td>\n",
       "      <td>22057.00</td>\n",
       "      <td>22498.000</td>\n",
       "      <td>23355.000</td>\n",
       "      <td>24085.000</td>\n",
       "      <td>24677.000</td>\n",
       "      <td>25258.000</td>\n",
       "      <td>26843.000</td>\n",
       "      <td>28047.000</td>\n",
       "      <td>...</td>\n",
       "      <td>47531.000</td>\n",
       "      <td>47749.000</td>\n",
       "      <td>47975.000</td>\n",
       "      <td>48206.000</td>\n",
       "      <td>48442.000</td>\n",
       "      <td>48678.000</td>\n",
       "      <td>48914.000</td>\n",
       "      <td>49145.000</td>\n",
       "      <td>49370.00</td>\n",
       "      <td>49587.000</td>\n",
       "    </tr>\n",
       "    <tr>\n",
       "      <th>2</th>\n",
       "      <td>20-29</td>\n",
       "      <td>24042.000</td>\n",
       "      <td>23847.00</td>\n",
       "      <td>23537.000</td>\n",
       "      <td>23194.000</td>\n",
       "      <td>22815.000</td>\n",
       "      <td>22548.000</td>\n",
       "      <td>22338.000</td>\n",
       "      <td>22143.000</td>\n",
       "      <td>22028.000</td>\n",
       "      <td>...</td>\n",
       "      <td>50051.000</td>\n",
       "      <td>50148.000</td>\n",
       "      <td>50252.000</td>\n",
       "      <td>50366.000</td>\n",
       "      <td>50492.000</td>\n",
       "      <td>50632.000</td>\n",
       "      <td>50787.000</td>\n",
       "      <td>50960.000</td>\n",
       "      <td>51149.00</td>\n",
       "      <td>51354.000</td>\n",
       "    </tr>\n",
       "    <tr>\n",
       "      <th>3</th>\n",
       "      <td>30-39</td>\n",
       "      <td>23021.000</td>\n",
       "      <td>23357.00</td>\n",
       "      <td>23687.000</td>\n",
       "      <td>23872.000</td>\n",
       "      <td>24098.000</td>\n",
       "      <td>24304.000</td>\n",
       "      <td>24462.000</td>\n",
       "      <td>24572.000</td>\n",
       "      <td>24618.000</td>\n",
       "      <td>...</td>\n",
       "      <td>51922.000</td>\n",
       "      <td>52193.000</td>\n",
       "      <td>52437.000</td>\n",
       "      <td>52656.000</td>\n",
       "      <td>52851.000</td>\n",
       "      <td>53025.000</td>\n",
       "      <td>53179.000</td>\n",
       "      <td>53314.000</td>\n",
       "      <td>53434.00</td>\n",
       "      <td>53545.000</td>\n",
       "    </tr>\n",
       "    <tr>\n",
       "      <th>4</th>\n",
       "      <td>40-49</td>\n",
       "      <td>19432.000</td>\n",
       "      <td>19764.00</td>\n",
       "      <td>20155.000</td>\n",
       "      <td>20517.000</td>\n",
       "      <td>20871.000</td>\n",
       "      <td>21215.000</td>\n",
       "      <td>21518.000</td>\n",
       "      <td>21821.000</td>\n",
       "      <td>22103.000</td>\n",
       "      <td>...</td>\n",
       "      <td>49005.000</td>\n",
       "      <td>49372.000</td>\n",
       "      <td>49737.000</td>\n",
       "      <td>50086.000</td>\n",
       "      <td>50455.000</td>\n",
       "      <td>50822.000</td>\n",
       "      <td>51162.000</td>\n",
       "      <td>51527.000</td>\n",
       "      <td>52020.00</td>\n",
       "      <td>52515.000</td>\n",
       "    </tr>\n",
       "    <tr>\n",
       "      <th>5</th>\n",
       "      <td>50-59</td>\n",
       "      <td>15604.000</td>\n",
       "      <td>15813.00</td>\n",
       "      <td>15948.000</td>\n",
       "      <td>16093.000</td>\n",
       "      <td>16287.000</td>\n",
       "      <td>16512.000</td>\n",
       "      <td>16776.000</td>\n",
       "      <td>17073.000</td>\n",
       "      <td>17406.000</td>\n",
       "      <td>...</td>\n",
       "      <td>47827.000</td>\n",
       "      <td>47658.000</td>\n",
       "      <td>47604.000</td>\n",
       "      <td>47629.000</td>\n",
       "      <td>47718.000</td>\n",
       "      <td>47895.000</td>\n",
       "      <td>48128.000</td>\n",
       "      <td>48347.000</td>\n",
       "      <td>48435.00</td>\n",
       "      <td>48453.000</td>\n",
       "    </tr>\n",
       "    <tr>\n",
       "      <th>6</th>\n",
       "      <td>60-69</td>\n",
       "      <td>11152.000</td>\n",
       "      <td>11425.00</td>\n",
       "      <td>11713.000</td>\n",
       "      <td>12003.000</td>\n",
       "      <td>12270.000</td>\n",
       "      <td>12515.000</td>\n",
       "      <td>12743.000</td>\n",
       "      <td>12949.000</td>\n",
       "      <td>13101.000</td>\n",
       "      <td>...</td>\n",
       "      <td>43209.000</td>\n",
       "      <td>43825.000</td>\n",
       "      <td>44348.000</td>\n",
       "      <td>44878.000</td>\n",
       "      <td>45212.000</td>\n",
       "      <td>45494.000</td>\n",
       "      <td>45759.000</td>\n",
       "      <td>45943.000</td>\n",
       "      <td>46029.00</td>\n",
       "      <td>46011.000</td>\n",
       "    </tr>\n",
       "    <tr>\n",
       "      <th>7</th>\n",
       "      <td>70-79</td>\n",
       "      <td>5599.000</td>\n",
       "      <td>5797.00</td>\n",
       "      <td>6004.000</td>\n",
       "      <td>6215.000</td>\n",
       "      <td>6456.000</td>\n",
       "      <td>6696.000</td>\n",
       "      <td>6919.000</td>\n",
       "      <td>7146.000</td>\n",
       "      <td>7367.000</td>\n",
       "      <td>...</td>\n",
       "      <td>32809.000</td>\n",
       "      <td>33188.000</td>\n",
       "      <td>33700.000</td>\n",
       "      <td>34205.000</td>\n",
       "      <td>34756.000</td>\n",
       "      <td>35369.000</td>\n",
       "      <td>35895.000</td>\n",
       "      <td>36469.000</td>\n",
       "      <td>37089.00</td>\n",
       "      <td>37698.000</td>\n",
       "    </tr>\n",
       "    <tr>\n",
       "      <th>8</th>\n",
       "      <td>&gt;= 80</td>\n",
       "      <td>1749.000</td>\n",
       "      <td>1817.00</td>\n",
       "      <td>1888.000</td>\n",
       "      <td>1965.000</td>\n",
       "      <td>2054.000</td>\n",
       "      <td>2148.000</td>\n",
       "      <td>2234.000</td>\n",
       "      <td>2317.000</td>\n",
       "      <td>2383.000</td>\n",
       "      <td>...</td>\n",
       "      <td>31141.000</td>\n",
       "      <td>31173.000</td>\n",
       "      <td>31086.000</td>\n",
       "      <td>30970.000</td>\n",
       "      <td>30952.000</td>\n",
       "      <td>30869.000</td>\n",
       "      <td>30891.000</td>\n",
       "      <td>30963.000</td>\n",
       "      <td>31114.00</td>\n",
       "      <td>31472.000</td>\n",
       "    </tr>\n",
       "    <tr>\n",
       "      <th>9</th>\n",
       "      <td>Total Population</td>\n",
       "      <td>152271.000</td>\n",
       "      <td>154878.00</td>\n",
       "      <td>157553.000</td>\n",
       "      <td>160184.000</td>\n",
       "      <td>163026.000</td>\n",
       "      <td>165931.000</td>\n",
       "      <td>168903.000</td>\n",
       "      <td>171984.000</td>\n",
       "      <td>174882.000</td>\n",
       "      <td>...</td>\n",
       "      <td>401796.000</td>\n",
       "      <td>403798.000</td>\n",
       "      <td>405811.000</td>\n",
       "      <td>407835.000</td>\n",
       "      <td>409873.000</td>\n",
       "      <td>411923.000</td>\n",
       "      <td>413989.000</td>\n",
       "      <td>416068.000</td>\n",
       "      <td>418161.00</td>\n",
       "      <td>420268.000</td>\n",
       "    </tr>\n",
       "    <tr>\n",
       "      <th>10</th>\n",
       "      <td>M/O Ratio</td>\n",
       "      <td>1.742</td>\n",
       "      <td>1.73</td>\n",
       "      <td>1.721</td>\n",
       "      <td>1.709</td>\n",
       "      <td>1.701</td>\n",
       "      <td>1.695</td>\n",
       "      <td>1.689</td>\n",
       "      <td>1.685</td>\n",
       "      <td>1.687</td>\n",
       "      <td>...</td>\n",
       "      <td>1.134</td>\n",
       "      <td>1.127</td>\n",
       "      <td>1.122</td>\n",
       "      <td>1.116</td>\n",
       "      <td>1.116</td>\n",
       "      <td>1.117</td>\n",
       "      <td>1.118</td>\n",
       "      <td>1.122</td>\n",
       "      <td>1.13</td>\n",
       "      <td>1.141</td>\n",
       "    </tr>\n",
       "  </tbody>\n",
       "</table>\n",
       "<p>11 rows × 112 columns</p>\n",
       "</div>"
      ],
      "text/plain": [
       "                 Age        1950       1951        1952        1953  \\\n",
       "0                <10   29785.000   31001.00   32123.000   32971.000   \n",
       "1              10-19   21888.000   22057.00   22498.000   23355.000   \n",
       "2              20-29   24042.000   23847.00   23537.000   23194.000   \n",
       "3              30-39   23021.000   23357.00   23687.000   23872.000   \n",
       "4              40-49   19432.000   19764.00   20155.000   20517.000   \n",
       "5              50-59   15604.000   15813.00   15948.000   16093.000   \n",
       "6              60-69   11152.000   11425.00   11713.000   12003.000   \n",
       "7              70-79    5599.000    5797.00    6004.000    6215.000   \n",
       "8              >= 80    1749.000    1817.00    1888.000    1965.000   \n",
       "9   Total Population  152271.000  154878.00  157553.000  160184.000   \n",
       "10         M/O Ratio       1.742       1.73       1.721       1.709   \n",
       "\n",
       "          1954        1955        1956        1957        1958     ...      \\\n",
       "0    34089.000   35315.000   36656.000   37118.000   37828.000     ...       \n",
       "1    24085.000   24677.000   25258.000   26843.000   28047.000     ...       \n",
       "2    22815.000   22548.000   22338.000   22143.000   22028.000     ...       \n",
       "3    24098.000   24304.000   24462.000   24572.000   24618.000     ...       \n",
       "4    20871.000   21215.000   21518.000   21821.000   22103.000     ...       \n",
       "5    16287.000   16512.000   16776.000   17073.000   17406.000     ...       \n",
       "6    12270.000   12515.000   12743.000   12949.000   13101.000     ...       \n",
       "7     6456.000    6696.000    6919.000    7146.000    7367.000     ...       \n",
       "8     2054.000    2148.000    2234.000    2317.000    2383.000     ...       \n",
       "9   163026.000  165931.000  168903.000  171984.000  174882.000     ...       \n",
       "10       1.701       1.695       1.689       1.685       1.687     ...       \n",
       "\n",
       "          2051        2052        2053        2054        2055        2056  \\\n",
       "0    48301.000   48493.000   48672.000   48840.000   48995.000   49140.000   \n",
       "1    47531.000   47749.000   47975.000   48206.000   48442.000   48678.000   \n",
       "2    50051.000   50148.000   50252.000   50366.000   50492.000   50632.000   \n",
       "3    51922.000   52193.000   52437.000   52656.000   52851.000   53025.000   \n",
       "4    49005.000   49372.000   49737.000   50086.000   50455.000   50822.000   \n",
       "5    47827.000   47658.000   47604.000   47629.000   47718.000   47895.000   \n",
       "6    43209.000   43825.000   44348.000   44878.000   45212.000   45494.000   \n",
       "7    32809.000   33188.000   33700.000   34205.000   34756.000   35369.000   \n",
       "8    31141.000   31173.000   31086.000   30970.000   30952.000   30869.000   \n",
       "9   401796.000  403798.000  405811.000  407835.000  409873.000  411923.000   \n",
       "10       1.134       1.127       1.122       1.116       1.116       1.117   \n",
       "\n",
       "          2057        2058       2059        2060  \n",
       "0    49274.000   49400.000   49520.00   49635.000  \n",
       "1    48914.000   49145.000   49370.00   49587.000  \n",
       "2    50787.000   50960.000   51149.00   51354.000  \n",
       "3    53179.000   53314.000   53434.00   53545.000  \n",
       "4    51162.000   51527.000   52020.00   52515.000  \n",
       "5    48128.000   48347.000   48435.00   48453.000  \n",
       "6    45759.000   45943.000   46029.00   46011.000  \n",
       "7    35895.000   36469.000   37089.00   37698.000  \n",
       "8    30891.000   30963.000   31114.00   31472.000  \n",
       "9   413989.000  416068.000  418161.00  420268.000  \n",
       "10       1.118       1.122       1.13       1.141  \n",
       "\n",
       "[11 rows x 112 columns]"
      ]
     },
     "execution_count": 92,
     "metadata": {},
     "output_type": "execute_result"
    }
   ],
   "source": [
    "population.head(12)"
   ]
  },
  {
   "cell_type": "code",
   "execution_count": 41,
   "metadata": {},
   "outputs": [
    {
     "data": {
      "text/html": [
       "<div>\n",
       "<style scoped>\n",
       "    .dataframe tbody tr th:only-of-type {\n",
       "        vertical-align: middle;\n",
       "    }\n",
       "\n",
       "    .dataframe tbody tr th {\n",
       "        vertical-align: top;\n",
       "    }\n",
       "\n",
       "    .dataframe thead th {\n",
       "        text-align: right;\n",
       "    }\n",
       "</style>\n",
       "<table border=\"1\" class=\"dataframe\">\n",
       "  <thead>\n",
       "    <tr style=\"text-align: right;\">\n",
       "      <th></th>\n",
       "      <th>Unnamed: 0</th>\n",
       "      <th>1950</th>\n",
       "      <th>1951</th>\n",
       "      <th>1952</th>\n",
       "      <th>1953</th>\n",
       "      <th>1954</th>\n",
       "      <th>1955</th>\n",
       "      <th>1956</th>\n",
       "      <th>1957</th>\n",
       "      <th>1958</th>\n",
       "      <th>...</th>\n",
       "      <th>2051</th>\n",
       "      <th>2052</th>\n",
       "      <th>2053</th>\n",
       "      <th>2054</th>\n",
       "      <th>2055</th>\n",
       "      <th>2056</th>\n",
       "      <th>2057</th>\n",
       "      <th>2058</th>\n",
       "      <th>2059</th>\n",
       "      <th>2060</th>\n",
       "    </tr>\n",
       "  </thead>\n",
       "  <tbody>\n",
       "    <tr>\n",
       "      <th>0</th>\n",
       "      <td>P/E</td>\n",
       "      <td>7.00</td>\n",
       "      <td>9.60</td>\n",
       "      <td>10.90</td>\n",
       "      <td>9.90</td>\n",
       "      <td>12.6</td>\n",
       "      <td>12.5</td>\n",
       "      <td>13.60</td>\n",
       "      <td>12.00</td>\n",
       "      <td>18.50</td>\n",
       "      <td>...</td>\n",
       "      <td>NaN</td>\n",
       "      <td>NaN</td>\n",
       "      <td>NaN</td>\n",
       "      <td>NaN</td>\n",
       "      <td>NaN</td>\n",
       "      <td>NaN</td>\n",
       "      <td>NaN</td>\n",
       "      <td>NaN</td>\n",
       "      <td>NaN</td>\n",
       "      <td>NaN</td>\n",
       "    </tr>\n",
       "    <tr>\n",
       "      <th>1</th>\n",
       "      <td>M/O</td>\n",
       "      <td>1.74</td>\n",
       "      <td>1.73</td>\n",
       "      <td>1.72</td>\n",
       "      <td>1.71</td>\n",
       "      <td>1.7</td>\n",
       "      <td>1.7</td>\n",
       "      <td>1.69</td>\n",
       "      <td>1.69</td>\n",
       "      <td>1.69</td>\n",
       "      <td>...</td>\n",
       "      <td>1.13</td>\n",
       "      <td>1.13</td>\n",
       "      <td>1.12</td>\n",
       "      <td>1.12</td>\n",
       "      <td>1.12</td>\n",
       "      <td>1.12</td>\n",
       "      <td>1.12</td>\n",
       "      <td>1.12</td>\n",
       "      <td>1.13</td>\n",
       "      <td>1.14</td>\n",
       "    </tr>\n",
       "  </tbody>\n",
       "</table>\n",
       "<p>2 rows × 112 columns</p>\n",
       "</div>"
      ],
      "text/plain": [
       "  Unnamed: 0  1950  1951   1952  1953  1954  1955   1956   1957   1958  ...   \\\n",
       "0        P/E  7.00  9.60  10.90  9.90  12.6  12.5  13.60  12.00  18.50  ...    \n",
       "1        M/O  1.74  1.73   1.72  1.71   1.7   1.7   1.69   1.69   1.69  ...    \n",
       "\n",
       "   2051  2052  2053  2054  2055  2056  2057  2058  2059  2060  \n",
       "0   NaN   NaN   NaN   NaN   NaN   NaN   NaN   NaN   NaN   NaN  \n",
       "1  1.13  1.13  1.12  1.12  1.12  1.12  1.12  1.12  1.13  1.14  \n",
       "\n",
       "[2 rows x 112 columns]"
      ]
     },
     "execution_count": 41,
     "metadata": {},
     "output_type": "execute_result"
    }
   ],
   "source": [
    "pe_mo.head()"
   ]
  },
  {
   "cell_type": "markdown",
   "metadata": {},
   "source": [
    "# Explore Population Data with Column & Stacked Bar Charts"
   ]
  },
  {
   "cell_type": "code",
   "execution_count": 42,
   "metadata": {},
   "outputs": [],
   "source": [
    "# Extract the US Population for calendar year 2018\n",
    "\n",
    "pop_1950 = population.loc[0:8, '1950']\n",
    "pop_1980 = population.loc[0:8, '1980']\n",
    "pop_2010 = population.loc[0:8, '2010']\n",
    "\n",
    "# Extract the Age Bracket labels\n",
    "\n",
    "age_groups = population.loc[0:8,'Age']"
   ]
  },
  {
   "cell_type": "code",
   "execution_count": 84,
   "metadata": {},
   "outputs": [
    {
     "data": {
      "image/png": "[encoded data removed]",
      "text/plain": [
       "<Figure size 576x864 with 3 Axes>"
      ]
     },
     "metadata": {},
     "output_type": "display_data"
    },
    {
     "data": {
      "text/plain": [
       "<Figure size 432x288 with 0 Axes>"
      ]
     },
     "metadata": {},
     "output_type": "display_data"
    }
   ],
   "source": [
    "# Create bar charts for calendar years 1950, 1980 and 2010 simply to provide info on the population distribution\n",
    "plt.figure(figsize=(8,12))\n",
    "plt.subplots_adjust(hspace=.4)\n",
    "\n",
    "# create the 1950 bar chart\n",
    "plt.subplot(3,1,1)\n",
    "ax_1950 = plt.bar(age_groups,pop_1950)\n",
    "plt.ylim(0.0, 45721.2)\n",
    "plt.title('Population 1950')\n",
    "plt.xlabel('Age Groups')\n",
    "plt.ylabel('Population (000s)')\n",
    "\n",
    "# create the 1980 bar chart\n",
    "plt.subplot(3,1,2)\n",
    "ax_1980 = plt.bar(age_groups,pop_1980)\n",
    "plt.ylim(0.0, 45721.2)\n",
    "plt.title('Population 1980')\n",
    "plt.xlabel('Age Groups')\n",
    "plt.ylabel('Population (000s)')\n",
    "\n",
    "# create the 2010 bar chart\n",
    "plt.subplot(3,1,3)\n",
    "ax_2010 = plt.bar(age_groups,pop_2010)\n",
    "plt.title('Population 2010')\n",
    "plt.ylabel('Population (000s)')\n",
    "plt.xlabel('Age Groups')\n",
    "\n",
    "plt.show()\n",
    "plt.savefig('1950_Population.png')\n",
    "plt.savefig('1980_Population.png')\n",
    "plt.savefig('2010_Population.png')"
   ]
  },
  {
   "cell_type": "markdown",
   "metadata": {},
   "source": [
    "# Baby-boomers born between 1946 - 1964.\n",
    "    # While the population as a whole is growing (same y-axis), you can see the 'wave' of the boomer generation aging across\n",
    "    # these charts.   "
   ]
  },
  {
   "cell_type": "code",
   "execution_count": 44,
   "metadata": {},
   "outputs": [
    {
     "data": {
      "text/html": [
       "<div>\n",
       "<style scoped>\n",
       "    .dataframe tbody tr th:only-of-type {\n",
       "        vertical-align: middle;\n",
       "    }\n",
       "\n",
       "    .dataframe tbody tr th {\n",
       "        vertical-align: top;\n",
       "    }\n",
       "\n",
       "    .dataframe thead th {\n",
       "        text-align: right;\n",
       "    }\n",
       "</style>\n",
       "<table border=\"1\" class=\"dataframe\">\n",
       "  <thead>\n",
       "    <tr style=\"text-align: right;\">\n",
       "      <th></th>\n",
       "      <th>1950</th>\n",
       "      <th>1960</th>\n",
       "      <th>1970</th>\n",
       "      <th>1980</th>\n",
       "      <th>1990</th>\n",
       "      <th>2000</th>\n",
       "      <th>2010</th>\n",
       "      <th>2020</th>\n",
       "      <th>2030</th>\n",
       "      <th>2040</th>\n",
       "      <th>2050</th>\n",
       "      <th>2060</th>\n",
       "    </tr>\n",
       "  </thead>\n",
       "  <tbody>\n",
       "    <tr>\n",
       "      <th>0</th>\n",
       "      <td>29785.0</td>\n",
       "      <td>39151.0</td>\n",
       "      <td>37086.0</td>\n",
       "      <td>33054.0</td>\n",
       "      <td>36933.0</td>\n",
       "      <td>39642.0</td>\n",
       "      <td>40521.0</td>\n",
       "      <td>43115.0</td>\n",
       "      <td>44703.0</td>\n",
       "      <td>45891.0</td>\n",
       "      <td>48098.0</td>\n",
       "      <td>49635.0</td>\n",
       "    </tr>\n",
       "    <tr>\n",
       "      <th>1</th>\n",
       "      <td>21888.0</td>\n",
       "      <td>30368.0</td>\n",
       "      <td>40186.0</td>\n",
       "      <td>39347.0</td>\n",
       "      <td>34984.0</td>\n",
       "      <td>40933.0</td>\n",
       "      <td>42664.0</td>\n",
       "      <td>41422.0</td>\n",
       "      <td>44310.0</td>\n",
       "      <td>46067.0</td>\n",
       "      <td>47324.0</td>\n",
       "      <td>49587.0</td>\n",
       "    </tr>\n",
       "    <tr>\n",
       "      <th>2</th>\n",
       "      <td>24042.0</td>\n",
       "      <td>22070.0</td>\n",
       "      <td>30938.0</td>\n",
       "      <td>41072.0</td>\n",
       "      <td>40427.0</td>\n",
       "      <td>38397.0</td>\n",
       "      <td>42849.0</td>\n",
       "      <td>45016.0</td>\n",
       "      <td>44653.0</td>\n",
       "      <td>48013.0</td>\n",
       "      <td>49955.0</td>\n",
       "      <td>51354.0</td>\n",
       "    </tr>\n",
       "    <tr>\n",
       "      <th>3</th>\n",
       "      <td>23021.0</td>\n",
       "      <td>24525.0</td>\n",
       "      <td>22742.0</td>\n",
       "      <td>31819.0</td>\n",
       "      <td>41929.0</td>\n",
       "      <td>43175.0</td>\n",
       "      <td>40150.0</td>\n",
       "      <td>44774.0</td>\n",
       "      <td>47762.0</td>\n",
       "      <td>47927.0</td>\n",
       "      <td>51462.0</td>\n",
       "      <td>53545.0</td>\n",
       "    </tr>\n",
       "    <tr>\n",
       "      <th>4</th>\n",
       "      <td>19432.0</td>\n",
       "      <td>22593.0</td>\n",
       "      <td>24146.0</td>\n",
       "      <td>22777.0</td>\n",
       "      <td>31622.0</td>\n",
       "      <td>42738.0</td>\n",
       "      <td>43544.0</td>\n",
       "      <td>40369.0</td>\n",
       "      <td>45338.0</td>\n",
       "      <td>48596.0</td>\n",
       "      <td>48917.0</td>\n",
       "      <td>52515.0</td>\n",
       "    </tr>\n",
       "  </tbody>\n",
       "</table>\n",
       "</div>"
      ],
      "text/plain": [
       "      1950     1960     1970     1980     1990     2000     2010     2020  \\\n",
       "0  29785.0  39151.0  37086.0  33054.0  36933.0  39642.0  40521.0  43115.0   \n",
       "1  21888.0  30368.0  40186.0  39347.0  34984.0  40933.0  42664.0  41422.0   \n",
       "2  24042.0  22070.0  30938.0  41072.0  40427.0  38397.0  42849.0  45016.0   \n",
       "3  23021.0  24525.0  22742.0  31819.0  41929.0  43175.0  40150.0  44774.0   \n",
       "4  19432.0  22593.0  24146.0  22777.0  31622.0  42738.0  43544.0  40369.0   \n",
       "\n",
       "      2030     2040     2050     2060  \n",
       "0  44703.0  45891.0  48098.0  49635.0  \n",
       "1  44310.0  46067.0  47324.0  49587.0  \n",
       "2  44653.0  48013.0  49955.0  51354.0  \n",
       "3  47762.0  47927.0  51462.0  53545.0  \n",
       "4  45338.0  48596.0  48917.0  52515.0  "
      ]
     },
     "execution_count": 44,
     "metadata": {},
     "output_type": "execute_result"
    }
   ],
   "source": [
    "# Create a dataframe with every 10th year (i.e. 1950, 1960, 1970,  etc) --> data cleaning to facilite ease of reading chart\n",
    "pop_10th = population[population.columns[1::10]]\n",
    "pop_10th.head()"
   ]
  },
  {
   "cell_type": "code",
   "execution_count": 45,
   "metadata": {},
   "outputs": [],
   "source": [
    "# Calculate the percent of population < 40 for each 10th year (i.e. 1950, 1960, 1970, etc)\n",
    "\n",
    "percent_U40 = []\n",
    "percent_40_60 = []\n",
    "percent_over_60 = []\n",
    "\n",
    "for col in range(0,len(pop_10th.columns)): # for each year column\n",
    "    pop_U40 = 0  # reset the U40 population to zero for each new year\n",
    "    for row in range(4): # for each row with population under 40\n",
    "        pop_U40 = pop_10th.iloc[row, col] + pop_U40\n",
    "        tot_pop = pop_10th.iloc[9, col]\n",
    "        pcnt_U40 = pop_U40/tot_pop * 100\n",
    "    percent_U40.append(pcnt_U40)\n",
    "\n",
    "# Calculate the percent of population between 40-60 for each year\n",
    "\n",
    "for col in range(0,len(pop_10th.columns)): # for each year column\n",
    "    pop_40_60 = 0  # reset the 40-60 population group to zero for each new year\n",
    "    for row in range(4,6): # for each row with population between 40-60\n",
    "        pop_40_60 = pop_10th.iloc[row, col] + pop_40_60\n",
    "        tot_pop = pop_10th.iloc[9, col]\n",
    "        pcnt_40_60 = pop_40_60/tot_pop * 100\n",
    "    percent_40_60.append(pcnt_40_60)\n",
    "\n",
    "# Calculate the percent of population > 60 for each year\n",
    "\n",
    "for col in range(0,len(pop_10th.columns)): # for each year column\n",
    "    pop_over_60 = 0  # reset the 40-60 population group to zero for each new year\n",
    "    for row in range(6,9): # for each row with population between 40-60\n",
    "        pop_over_60 = pop_10th.iloc[row, col] + pop_over_60\n",
    "        tot_pop = pop_10th.iloc[9, col]\n",
    "        pcnt_over_60 = pop_over_60/tot_pop * 100\n",
    "    percent_over_60.append(pcnt_over_60)"
   ]
  },
  {
   "cell_type": "code",
   "execution_count": 83,
   "metadata": {},
   "outputs": [
    {
     "data": {
      "image/png": "[encoded data removed]",
      "text/plain": [
       "<Figure size 432x288 with 1 Axes>"
      ]
     },
     "metadata": {},
     "output_type": "display_data"
    },
    {
     "data": {
      "text/plain": [
       "<Figure size 432x288 with 0 Axes>"
      ]
     },
     "metadata": {},
     "output_type": "display_data"
    }
   ],
   "source": [
    "# Create bar chart (same as above chart, just for every 10th year)\n",
    "\n",
    "bar_U40 = [i for i in range(len(percent_U40))] # for X-axis, but really want to add Year labels\n",
    "bottom_over_60 = [i+j for i,j in zip(percent_U40, percent_40_60)] # add the values of percent_U40 and percent_40_60 to create\n",
    "    # the starting value to which we will add the percent_over_60\n",
    "\n",
    "plt.bar(bar_U40, percent_U40, width=.5, color='b')\n",
    "plt.bar(bar_U40, percent_40_60, bottom=percent_U40, width=.5, color='r')\n",
    "plt.bar(bar_U40, percent_over_60, bottom=bottom_over_60, width=.5, color='g')\n",
    "plt.ylabel('% Population')\n",
    "plt.title('Population Age Demographic %')\n",
    "plt.show()\n",
    "plt.savefig('Age_Demographic.png')"
   ]
  },
  {
   "cell_type": "code",
   "execution_count": 82,
   "metadata": {},
   "outputs": [
    {
     "data": {
      "image/png": "[encoded data removed]",
      "text/plain": [
       "<Figure size 432x288 with 1 Axes>"
      ]
     },
     "metadata": {},
     "output_type": "display_data"
    },
    {
     "data": {
      "text/plain": [
       "<Figure size 432x288 with 0 Axes>"
      ]
     },
     "metadata": {},
     "output_type": "display_data"
    }
   ],
   "source": [
    "# Create bar chart with just 2 age demographics (40-60 and 60+)\n",
    "\n",
    "plt.bar(bar_U40, percent_40_60, width=.5, color='r')\n",
    "plt.bar(bar_U40, percent_over_60, bottom=percent_40_60, width=.5, color='g')\n",
    "plt.ylabel('% Population')\n",
    "plt.title('Population Age Demographic %')\n",
    "plt.show()\n",
    "plt.savefig('MO_Age_Demographic.png')"
   ]
  },
  {
   "cell_type": "markdown",
   "metadata": {},
   "source": [
    "# Evaluate the Statistical Correlation Between M/O and PE Ratio for S&P 500"
   ]
  },
  {
   "cell_type": "code",
   "execution_count": 48,
   "metadata": {},
   "outputs": [
    {
     "data": {
      "text/html": [
       "<div>\n",
       "<style scoped>\n",
       "    .dataframe tbody tr th:only-of-type {\n",
       "        vertical-align: middle;\n",
       "    }\n",
       "\n",
       "    .dataframe tbody tr th {\n",
       "        vertical-align: top;\n",
       "    }\n",
       "\n",
       "    .dataframe thead th {\n",
       "        text-align: right;\n",
       "    }\n",
       "</style>\n",
       "<table border=\"1\" class=\"dataframe\">\n",
       "  <thead>\n",
       "    <tr style=\"text-align: right;\">\n",
       "      <th></th>\n",
       "      <th>Unnamed: 0</th>\n",
       "      <th>1950</th>\n",
       "      <th>1951</th>\n",
       "      <th>1952</th>\n",
       "      <th>1953</th>\n",
       "      <th>1954</th>\n",
       "      <th>1955</th>\n",
       "      <th>1956</th>\n",
       "      <th>1957</th>\n",
       "      <th>1958</th>\n",
       "      <th>...</th>\n",
       "      <th>2051</th>\n",
       "      <th>2052</th>\n",
       "      <th>2053</th>\n",
       "      <th>2054</th>\n",
       "      <th>2055</th>\n",
       "      <th>2056</th>\n",
       "      <th>2057</th>\n",
       "      <th>2058</th>\n",
       "      <th>2059</th>\n",
       "      <th>2060</th>\n",
       "    </tr>\n",
       "  </thead>\n",
       "  <tbody>\n",
       "    <tr>\n",
       "      <th>0</th>\n",
       "      <td>P/E</td>\n",
       "      <td>7.00</td>\n",
       "      <td>9.60</td>\n",
       "      <td>10.90</td>\n",
       "      <td>9.90</td>\n",
       "      <td>12.6</td>\n",
       "      <td>12.5</td>\n",
       "      <td>13.60</td>\n",
       "      <td>12.00</td>\n",
       "      <td>18.50</td>\n",
       "      <td>...</td>\n",
       "      <td>NaN</td>\n",
       "      <td>NaN</td>\n",
       "      <td>NaN</td>\n",
       "      <td>NaN</td>\n",
       "      <td>NaN</td>\n",
       "      <td>NaN</td>\n",
       "      <td>NaN</td>\n",
       "      <td>NaN</td>\n",
       "      <td>NaN</td>\n",
       "      <td>NaN</td>\n",
       "    </tr>\n",
       "    <tr>\n",
       "      <th>1</th>\n",
       "      <td>M/O</td>\n",
       "      <td>1.74</td>\n",
       "      <td>1.73</td>\n",
       "      <td>1.72</td>\n",
       "      <td>1.71</td>\n",
       "      <td>1.7</td>\n",
       "      <td>1.7</td>\n",
       "      <td>1.69</td>\n",
       "      <td>1.69</td>\n",
       "      <td>1.69</td>\n",
       "      <td>...</td>\n",
       "      <td>1.13</td>\n",
       "      <td>1.13</td>\n",
       "      <td>1.12</td>\n",
       "      <td>1.12</td>\n",
       "      <td>1.12</td>\n",
       "      <td>1.12</td>\n",
       "      <td>1.12</td>\n",
       "      <td>1.12</td>\n",
       "      <td>1.13</td>\n",
       "      <td>1.14</td>\n",
       "    </tr>\n",
       "  </tbody>\n",
       "</table>\n",
       "<p>2 rows × 112 columns</p>\n",
       "</div>"
      ],
      "text/plain": [
       "  Unnamed: 0  1950  1951   1952  1953  1954  1955   1956   1957   1958  ...   \\\n",
       "0        P/E  7.00  9.60  10.90  9.90  12.6  12.5  13.60  12.00  18.50  ...    \n",
       "1        M/O  1.74  1.73   1.72  1.71   1.7   1.7   1.69   1.69   1.69  ...    \n",
       "\n",
       "   2051  2052  2053  2054  2055  2056  2057  2058  2059  2060  \n",
       "0   NaN   NaN   NaN   NaN   NaN   NaN   NaN   NaN   NaN   NaN  \n",
       "1  1.13  1.13  1.12  1.12  1.12  1.12  1.12  1.12  1.13  1.14  \n",
       "\n",
       "[2 rows x 112 columns]"
      ]
     },
     "execution_count": 48,
     "metadata": {},
     "output_type": "execute_result"
    }
   ],
   "source": [
    "pe_mo.head()"
   ]
  },
  {
   "cell_type": "code",
   "execution_count": 49,
   "metadata": {},
   "outputs": [
    {
     "data": {
      "text/html": [
       "<div>\n",
       "<style scoped>\n",
       "    .dataframe tbody tr th:only-of-type {\n",
       "        vertical-align: middle;\n",
       "    }\n",
       "\n",
       "    .dataframe tbody tr th {\n",
       "        vertical-align: top;\n",
       "    }\n",
       "\n",
       "    .dataframe thead th {\n",
       "        text-align: right;\n",
       "    }\n",
       "</style>\n",
       "<table border=\"1\" class=\"dataframe\">\n",
       "  <thead>\n",
       "    <tr style=\"text-align: right;\">\n",
       "      <th></th>\n",
       "      <th>1950</th>\n",
       "      <th>1951</th>\n",
       "      <th>1952</th>\n",
       "      <th>1953</th>\n",
       "      <th>1954</th>\n",
       "      <th>1955</th>\n",
       "      <th>1956</th>\n",
       "      <th>1957</th>\n",
       "      <th>1958</th>\n",
       "      <th>1959</th>\n",
       "      <th>...</th>\n",
       "      <th>2051</th>\n",
       "      <th>2052</th>\n",
       "      <th>2053</th>\n",
       "      <th>2054</th>\n",
       "      <th>2055</th>\n",
       "      <th>2056</th>\n",
       "      <th>2057</th>\n",
       "      <th>2058</th>\n",
       "      <th>2059</th>\n",
       "      <th>2060</th>\n",
       "    </tr>\n",
       "    <tr>\n",
       "      <th>Unnamed: 0</th>\n",
       "      <th></th>\n",
       "      <th></th>\n",
       "      <th></th>\n",
       "      <th></th>\n",
       "      <th></th>\n",
       "      <th></th>\n",
       "      <th></th>\n",
       "      <th></th>\n",
       "      <th></th>\n",
       "      <th></th>\n",
       "      <th></th>\n",
       "      <th></th>\n",
       "      <th></th>\n",
       "      <th></th>\n",
       "      <th></th>\n",
       "      <th></th>\n",
       "      <th></th>\n",
       "      <th></th>\n",
       "      <th></th>\n",
       "      <th></th>\n",
       "      <th></th>\n",
       "    </tr>\n",
       "  </thead>\n",
       "  <tbody>\n",
       "    <tr>\n",
       "      <th>P/E</th>\n",
       "      <td>7.00</td>\n",
       "      <td>9.60</td>\n",
       "      <td>10.90</td>\n",
       "      <td>9.90</td>\n",
       "      <td>12.6</td>\n",
       "      <td>12.5</td>\n",
       "      <td>13.60</td>\n",
       "      <td>12.00</td>\n",
       "      <td>18.50</td>\n",
       "      <td>17.40</td>\n",
       "      <td>...</td>\n",
       "      <td>NaN</td>\n",
       "      <td>NaN</td>\n",
       "      <td>NaN</td>\n",
       "      <td>NaN</td>\n",
       "      <td>NaN</td>\n",
       "      <td>NaN</td>\n",
       "      <td>NaN</td>\n",
       "      <td>NaN</td>\n",
       "      <td>NaN</td>\n",
       "      <td>NaN</td>\n",
       "    </tr>\n",
       "    <tr>\n",
       "      <th>M/O</th>\n",
       "      <td>1.74</td>\n",
       "      <td>1.73</td>\n",
       "      <td>1.72</td>\n",
       "      <td>1.71</td>\n",
       "      <td>1.7</td>\n",
       "      <td>1.7</td>\n",
       "      <td>1.69</td>\n",
       "      <td>1.69</td>\n",
       "      <td>1.69</td>\n",
       "      <td>1.69</td>\n",
       "      <td>...</td>\n",
       "      <td>1.13</td>\n",
       "      <td>1.13</td>\n",
       "      <td>1.12</td>\n",
       "      <td>1.12</td>\n",
       "      <td>1.12</td>\n",
       "      <td>1.12</td>\n",
       "      <td>1.12</td>\n",
       "      <td>1.12</td>\n",
       "      <td>1.13</td>\n",
       "      <td>1.14</td>\n",
       "    </tr>\n",
       "  </tbody>\n",
       "</table>\n",
       "<p>2 rows × 111 columns</p>\n",
       "</div>"
      ],
      "text/plain": [
       "            1950  1951   1952  1953  1954  1955   1956   1957   1958   1959  \\\n",
       "Unnamed: 0                                                                    \n",
       "P/E         7.00  9.60  10.90  9.90  12.6  12.5  13.60  12.00  18.50  17.40   \n",
       "M/O         1.74  1.73   1.72  1.71   1.7   1.7   1.69   1.69   1.69   1.69   \n",
       "\n",
       "            ...   2051  2052  2053  2054  2055  2056  2057  2058  2059  2060  \n",
       "Unnamed: 0  ...                                                               \n",
       "P/E         ...    NaN   NaN   NaN   NaN   NaN   NaN   NaN   NaN   NaN   NaN  \n",
       "M/O         ...   1.13  1.13  1.12  1.12  1.12  1.12  1.12  1.12  1.13  1.14  \n",
       "\n",
       "[2 rows x 111 columns]"
      ]
     },
     "execution_count": 49,
     "metadata": {},
     "output_type": "execute_result"
    }
   ],
   "source": [
    "pe_mo.index=pe_mo.iloc[:,0] # establish the 'Unnamed: 0' column as the index\n",
    "pe_mo=pe_mo.iloc[:,1:] # remove the, now duplicate column with P/E, M/O, M/Y strings\n",
    "pe_mo.head()"
   ]
  },
  {
   "cell_type": "markdown",
   "metadata": {},
   "source": [
    "# Create and Insert the Chart of M/O vs P/E Ratio for S&P 500 \n",
    "    # (1950 through 2017)"
   ]
  },
  {
   "cell_type": "code",
   "execution_count": null,
   "metadata": {},
   "outputs": [],
   "source": []
  },
  {
   "cell_type": "markdown",
   "metadata": {},
   "source": [
    "# Analyze the Data Sets"
   ]
  },
  {
   "cell_type": "code",
   "execution_count": 50,
   "metadata": {},
   "outputs": [
    {
     "data": {
      "text/html": [
       "<div>\n",
       "<style scoped>\n",
       "    .dataframe tbody tr th:only-of-type {\n",
       "        vertical-align: middle;\n",
       "    }\n",
       "\n",
       "    .dataframe tbody tr th {\n",
       "        vertical-align: top;\n",
       "    }\n",
       "\n",
       "    .dataframe thead th {\n",
       "        text-align: right;\n",
       "    }\n",
       "</style>\n",
       "<table border=\"1\" class=\"dataframe\">\n",
       "  <thead>\n",
       "    <tr style=\"text-align: right;\">\n",
       "      <th>Unnamed: 0</th>\n",
       "      <th>P/E</th>\n",
       "      <th>M/O</th>\n",
       "    </tr>\n",
       "  </thead>\n",
       "  <tbody>\n",
       "    <tr>\n",
       "      <th>1950</th>\n",
       "      <td>7.0</td>\n",
       "      <td>1.74</td>\n",
       "    </tr>\n",
       "    <tr>\n",
       "      <th>1951</th>\n",
       "      <td>9.6</td>\n",
       "      <td>1.73</td>\n",
       "    </tr>\n",
       "    <tr>\n",
       "      <th>1952</th>\n",
       "      <td>10.9</td>\n",
       "      <td>1.72</td>\n",
       "    </tr>\n",
       "    <tr>\n",
       "      <th>1953</th>\n",
       "      <td>9.9</td>\n",
       "      <td>1.71</td>\n",
       "    </tr>\n",
       "    <tr>\n",
       "      <th>1954</th>\n",
       "      <td>12.6</td>\n",
       "      <td>1.70</td>\n",
       "    </tr>\n",
       "  </tbody>\n",
       "</table>\n",
       "</div>"
      ],
      "text/plain": [
       "Unnamed: 0   P/E   M/O\n",
       "1950         7.0  1.74\n",
       "1951         9.6  1.73\n",
       "1952        10.9  1.72\n",
       "1953         9.9  1.71\n",
       "1954        12.6  1.70"
      ]
     },
     "execution_count": 50,
     "metadata": {},
     "output_type": "execute_result"
    }
   ],
   "source": [
    "pe_mo = pe_mo.T # transpose the dataframe...columnar data will be used for correlation analysis\n",
    "pe_mo.head()"
   ]
  },
  {
   "cell_type": "code",
   "execution_count": 51,
   "metadata": {},
   "outputs": [
    {
     "data": {
      "text/html": [
       "<div>\n",
       "<style scoped>\n",
       "    .dataframe tbody tr th:only-of-type {\n",
       "        vertical-align: middle;\n",
       "    }\n",
       "\n",
       "    .dataframe tbody tr th {\n",
       "        vertical-align: top;\n",
       "    }\n",
       "\n",
       "    .dataframe thead th {\n",
       "        text-align: right;\n",
       "    }\n",
       "</style>\n",
       "<table border=\"1\" class=\"dataframe\">\n",
       "  <thead>\n",
       "    <tr style=\"text-align: right;\">\n",
       "      <th>Unnamed: 0</th>\n",
       "      <th>P/E</th>\n",
       "      <th>M/O</th>\n",
       "    </tr>\n",
       "  </thead>\n",
       "  <tbody>\n",
       "    <tr>\n",
       "      <th>2013</th>\n",
       "      <td>18.0</td>\n",
       "      <td>1.29</td>\n",
       "    </tr>\n",
       "    <tr>\n",
       "      <th>2014</th>\n",
       "      <td>20.1</td>\n",
       "      <td>1.22</td>\n",
       "    </tr>\n",
       "    <tr>\n",
       "      <th>2015</th>\n",
       "      <td>23.7</td>\n",
       "      <td>1.16</td>\n",
       "    </tr>\n",
       "    <tr>\n",
       "      <th>2016</th>\n",
       "      <td>23.8</td>\n",
       "      <td>1.12</td>\n",
       "    </tr>\n",
       "    <tr>\n",
       "      <th>2017</th>\n",
       "      <td>24.2</td>\n",
       "      <td>1.10</td>\n",
       "    </tr>\n",
       "  </tbody>\n",
       "</table>\n",
       "</div>"
      ],
      "text/plain": [
       "Unnamed: 0   P/E   M/O\n",
       "2013        18.0  1.29\n",
       "2014        20.1  1.22\n",
       "2015        23.7  1.16\n",
       "2016        23.8  1.12\n",
       "2017        24.2  1.10"
      ]
     },
     "execution_count": 51,
     "metadata": {},
     "output_type": "execute_result"
    }
   ],
   "source": [
    "# Drop rows with empty data (i.e. the rows from 2018 through 2060 which do not have P/E data)\n",
    "pe_mo_historical = pe_mo.dropna()\n",
    "pe_mo_historical.tail()"
   ]
  },
  {
   "cell_type": "code",
   "execution_count": 52,
   "metadata": {},
   "outputs": [],
   "source": [
    "# Extract the individual data series to faciliate individual plotting\n",
    "\n",
    "pe = pe_mo_historical['P/E']\n",
    "mo = pe_mo_historical['M/O']\n"
   ]
  },
  {
   "cell_type": "code",
   "execution_count": 81,
   "metadata": {
    "scrolled": true
   },
   "outputs": [
    {
     "data": {
      "image/png": "[encoded data removed]",
      "text/plain": [
       "<Figure size 1008x288 with 2 Axes>"
      ]
     },
     "metadata": {},
     "output_type": "display_data"
    }
   ],
   "source": [
    "# Create line plots for individual data series\n",
    "\n",
    "plt.figure(figsize=(14,4))\n",
    "plt.subplots_adjust(wspace=.2)\n",
    "\n",
    "# Plot P/E Ratio \n",
    "plt.subplot(1,2,1)\n",
    "plt.plot(pe)\n",
    "plt.title('P/E Ratio')\n",
    "plt.savefig('PE_Ratio.png')\n",
    "# Plot M/O Ratio\n",
    "plt.subplot(1,2,2)\n",
    "plt.plot(mo)\n",
    "plt.title('M/O Ratio')\n",
    "plt.savefig('MO_Ratio.png')\n",
    "plt.show()\n"
   ]
  },
  {
   "cell_type": "code",
   "execution_count": 94,
   "metadata": {},
   "outputs": [
    {
     "data": {
      "image/png": "[encoded data removed]",
      "text/plain": [
       "<Figure size 432x288 with 2 Axes>"
      ]
     },
     "metadata": {},
     "output_type": "display_data"
    }
   ],
   "source": [
    "pe_mo_years = pe_mo_historical.reset_index()\n",
    "#pe_mo_years\n",
    "fig, ax1= plt.subplots()\n",
    "ax1.plot(pe_mo_years['index'], pe_mo_years['P/E'])\n",
    "ax2 = ax1.twinx()\n",
    "ax2.plot(pe_mo_years['index'], pe_mo_years['M/O'])\n",
    "plt.show()"
   ]
  },
  {
   "cell_type": "code",
   "execution_count": 85,
   "metadata": {},
   "outputs": [
    {
     "data": {
      "image/png": "[encoded data removed]",
      "text/plain": [
       "<Figure size 1008x288 with 2 Axes>"
      ]
     },
     "metadata": {},
     "output_type": "display_data"
    }
   ],
   "source": [
    "# Create histogram plots for individual data series\n",
    "\n",
    "plt.figure(figsize=(14,4))\n",
    "plt.subplots_adjust(wspace=.2)\n",
    "\n",
    "# Plot P/E Ratio \n",
    "plt.subplot(1,2,1)\n",
    "plt.hist(pe)\n",
    "plt.title('P/E Ratio')\n",
    "plt.savefig('PE_hist.png')\n",
    "# Plot M/O Ratio\n",
    "plt.subplot(1,2,2)\n",
    "plt.hist(mo)\n",
    "plt.title('M/O Ratio')\n",
    "plt.savefig('MO_hist')\n",
    "plt.show()"
   ]
  },
  {
   "cell_type": "code",
   "execution_count": 75,
   "metadata": {},
   "outputs": [
    {
     "data": {
      "text/plain": [
       "<matplotlib.axes._subplots.AxesSubplot at 0x1ed19cd0e80>"
      ]
     },
     "execution_count": 75,
     "metadata": {},
     "output_type": "execute_result"
    },
    {
     "data": {
      "image/png": "[encoded data removed]",
      "text/plain": [
       "<Figure size 432x288 with 1 Axes>"
      ]
     },
     "metadata": {},
     "output_type": "display_data"
    }
   ],
   "source": [
    "pe_mo_historical.plot()"
   ]
  },
  {
   "cell_type": "markdown",
   "metadata": {},
   "source": [
    "# Interpretation of the above data\n",
    "    # Unsurprisingly, these data sets are not normally distributed.  That's ok!\n",
    "    # However,  the P/E Ratio does have 'outliers' driven by macro events (e.g. Internet bubble, 2008 housing crash) that we \n",
    "        # will remove to facilitate model predictive capabilities\n",
    "    # Outliers are also visible in the scatter plot below"
   ]
  },
  {
   "cell_type": "code",
   "execution_count": 86,
   "metadata": {},
   "outputs": [
    {
     "data": {
      "image/png": "[encoded data removed]",
      "text/plain": [
       "<Figure size 432x288 with 1 Axes>"
      ]
     },
     "metadata": {},
     "output_type": "display_data"
    }
   ],
   "source": [
    "# Create scatter plot for M/O vs P/E\n",
    "# Scatter Plot for M/O vs P/E Ratio \n",
    "\n",
    "plt.scatter(pe_mo_historical['M/O'],pe_mo_historical['P/E'])\n",
    "plt.xlabel('M/O Ratio')\n",
    "plt.ylabel('P/E Ratio')\n",
    "plt.title('M/O Ratio vs P/E Ratio (1950 - 2017)')\n",
    "plt.savefig('mo_vs_pe_scatter.png')\n",
    "plt.show()"
   ]
  },
  {
   "cell_type": "markdown",
   "metadata": {},
   "source": [
    "# Null Hypothesis - there is no correlation between M/O and P/E\n",
    "    # No correlation between the age of the US population and US stock prices"
   ]
  },
  {
   "cell_type": "markdown",
   "metadata": {},
   "source": [
    "# Analyze the correlation (Pearson coefficient) between M/O and PE"
   ]
  },
  {
   "cell_type": "code",
   "execution_count": 56,
   "metadata": {},
   "outputs": [
    {
     "name": "stdout",
     "output_type": "stream",
     "text": [
      "Pearson r-value is: 0.44205229691175013\n"
     ]
    }
   ],
   "source": [
    "# Perform the Pearson Correlation (default correlation method for Pandas) --> outputs the r-value (correlation coefficient) and \n",
    "    # indicates a 'moderate correlation' in this case (i.e. 1 or -1 is perfect  correlation and 0 is no correlation)\n",
    "\n",
    "print(f'Pearson r-value is: {pe.corr(mo)}')\n"
   ]
  },
  {
   "cell_type": "code",
   "execution_count": 57,
   "metadata": {},
   "outputs": [
    {
     "name": "stdout",
     "output_type": "stream",
     "text": [
      "Pearson r-value is: 0.44\n",
      "Pearson p-value is: 0.0002\n"
     ]
    }
   ],
   "source": [
    "# Perform the Pearson Correlation using the scipy.stats module because this provides both r and p values\n",
    "    # However, in order to use this module, need to drop the rows with missing data.\n",
    "\n",
    "output = list(stats.pearsonr(pe_mo_historical['P/E'],pe_mo_historical['M/O']))\n",
    "\n",
    "print(f'Pearson r-value is: {output[0]:.2f}')\n",
    "print(f'Pearson p-value is: {output[1]:.4f}')"
   ]
  },
  {
   "cell_type": "markdown",
   "metadata": {},
   "source": [
    "# Interpretation of this Pearson Correlation is:\n",
    "    # Moderate correlation based on r-value of .44\n",
    "    # Reject the null hypothesis and conclude that the correlation between M/O and P/E is statistically significant based\n",
    "        #on p-value\n",
    "    # Note:  The above analysis conclusions are before any removal of outliers.  We would expect that removal of the outliers\n",
    "        # (Internet bubble, and housing crash) from the data will improve the correlation and, subsequent, model accuracy."
   ]
  },
  {
   "cell_type": "markdown",
   "metadata": {},
   "source": [
    "# Remove the outliers from the data (e.g. P/E ratio with z-score >= 3)"
   ]
  },
  {
   "cell_type": "code",
   "execution_count": 58,
   "metadata": {},
   "outputs": [],
   "source": [
    "# Extract the P/E column from pe_mo_historical as a numpy array, which is the format needed for input to calculate z-score\n",
    "\n",
    "pe_array = np.array(pe_mo_historical['P/E'].values.tolist())"
   ]
  },
  {
   "cell_type": "code",
   "execution_count": 59,
   "metadata": {},
   "outputs": [],
   "source": [
    "# Calculate z-score for PE data to identify outliers which will be dropped from data and smooth the PE curve\n",
    "pe_zscore = stats.zscore(pe_array)"
   ]
  },
  {
   "cell_type": "code",
   "execution_count": 60,
   "metadata": {},
   "outputs": [
    {
     "data": {
      "text/html": [
       "<div>\n",
       "<style scoped>\n",
       "    .dataframe tbody tr th:only-of-type {\n",
       "        vertical-align: middle;\n",
       "    }\n",
       "\n",
       "    .dataframe tbody tr th {\n",
       "        vertical-align: top;\n",
       "    }\n",
       "\n",
       "    .dataframe thead th {\n",
       "        text-align: right;\n",
       "    }\n",
       "</style>\n",
       "<table border=\"1\" class=\"dataframe\">\n",
       "  <thead>\n",
       "    <tr style=\"text-align: right;\">\n",
       "      <th>Unnamed: 0</th>\n",
       "      <th>P/E</th>\n",
       "      <th>M/O</th>\n",
       "      <th>P/E Z-score</th>\n",
       "    </tr>\n",
       "  </thead>\n",
       "  <tbody>\n",
       "    <tr>\n",
       "      <th>1950</th>\n",
       "      <td>7.0</td>\n",
       "      <td>1.74</td>\n",
       "      <td>-1.273763</td>\n",
       "    </tr>\n",
       "    <tr>\n",
       "      <th>1951</th>\n",
       "      <td>9.6</td>\n",
       "      <td>1.73</td>\n",
       "      <td>-0.965775</td>\n",
       "    </tr>\n",
       "    <tr>\n",
       "      <th>1952</th>\n",
       "      <td>10.9</td>\n",
       "      <td>1.72</td>\n",
       "      <td>-0.811780</td>\n",
       "    </tr>\n",
       "    <tr>\n",
       "      <th>1953</th>\n",
       "      <td>9.9</td>\n",
       "      <td>1.71</td>\n",
       "      <td>-0.930237</td>\n",
       "    </tr>\n",
       "    <tr>\n",
       "      <th>1954</th>\n",
       "      <td>12.6</td>\n",
       "      <td>1.70</td>\n",
       "      <td>-0.610403</td>\n",
       "    </tr>\n",
       "  </tbody>\n",
       "</table>\n",
       "</div>"
      ],
      "text/plain": [
       "Unnamed: 0   P/E   M/O  P/E Z-score\n",
       "1950         7.0  1.74    -1.273763\n",
       "1951         9.6  1.73    -0.965775\n",
       "1952        10.9  1.72    -0.811780\n",
       "1953         9.9  1.71    -0.930237\n",
       "1954        12.6  1.70    -0.610403"
      ]
     },
     "execution_count": 60,
     "metadata": {},
     "output_type": "execute_result"
    }
   ],
   "source": [
    "# Add the pe-zscore to a new column in pe_mo_historical dataframe\n",
    "\n",
    "pe_mo_historical['P/E Z-score'] = pe_zscore\n",
    "\n",
    "pe_mo_historical.head()"
   ]
  },
  {
   "cell_type": "code",
   "execution_count": 61,
   "metadata": {},
   "outputs": [
    {
     "data": {
      "text/html": [
       "<div>\n",
       "<style scoped>\n",
       "    .dataframe tbody tr th:only-of-type {\n",
       "        vertical-align: middle;\n",
       "    }\n",
       "\n",
       "    .dataframe tbody tr th {\n",
       "        vertical-align: top;\n",
       "    }\n",
       "\n",
       "    .dataframe thead th {\n",
       "        text-align: right;\n",
       "    }\n",
       "</style>\n",
       "<table border=\"1\" class=\"dataframe\">\n",
       "  <thead>\n",
       "    <tr style=\"text-align: right;\">\n",
       "      <th>Unnamed: 0</th>\n",
       "      <th>P/E</th>\n",
       "      <th>M/O</th>\n",
       "      <th>P/E Z-score</th>\n",
       "    </tr>\n",
       "  </thead>\n",
       "  <tbody>\n",
       "    <tr>\n",
       "      <th>count</th>\n",
       "      <td>68.000000</td>\n",
       "      <td>68.000000</td>\n",
       "      <td>6.800000e+01</td>\n",
       "    </tr>\n",
       "    <tr>\n",
       "      <th>mean</th>\n",
       "      <td>17.752941</td>\n",
       "      <td>1.581618</td>\n",
       "      <td>-1.175530e-16</td>\n",
       "    </tr>\n",
       "    <tr>\n",
       "      <th>std</th>\n",
       "      <td>8.504634</td>\n",
       "      <td>0.275197</td>\n",
       "      <td>1.007435e+00</td>\n",
       "    </tr>\n",
       "    <tr>\n",
       "      <th>min</th>\n",
       "      <td>7.000000</td>\n",
       "      <td>1.100000</td>\n",
       "      <td>-1.273763e+00</td>\n",
       "    </tr>\n",
       "    <tr>\n",
       "      <th>25%</th>\n",
       "      <td>11.925000</td>\n",
       "      <td>1.332500</td>\n",
       "      <td>-6.903615e-01</td>\n",
       "    </tr>\n",
       "    <tr>\n",
       "      <th>50%</th>\n",
       "      <td>17.400000</td>\n",
       "      <td>1.640000</td>\n",
       "      <td>-4.180842e-02</td>\n",
       "    </tr>\n",
       "    <tr>\n",
       "      <th>75%</th>\n",
       "      <td>20.700000</td>\n",
       "      <td>1.722500</td>\n",
       "      <td>3.491003e-01</td>\n",
       "    </tr>\n",
       "    <tr>\n",
       "      <th>max</th>\n",
       "      <td>59.000000</td>\n",
       "      <td>2.100000</td>\n",
       "      <td>4.886011e+00</td>\n",
       "    </tr>\n",
       "  </tbody>\n",
       "</table>\n",
       "</div>"
      ],
      "text/plain": [
       "Unnamed: 0        P/E        M/O   P/E Z-score\n",
       "count       68.000000  68.000000  6.800000e+01\n",
       "mean        17.752941   1.581618 -1.175530e-16\n",
       "std          8.504634   0.275197  1.007435e+00\n",
       "min          7.000000   1.100000 -1.273763e+00\n",
       "25%         11.925000   1.332500 -6.903615e-01\n",
       "50%         17.400000   1.640000 -4.180842e-02\n",
       "75%         20.700000   1.722500  3.491003e-01\n",
       "max         59.000000   2.100000  4.886011e+00"
      ]
     },
     "execution_count": 61,
     "metadata": {},
     "output_type": "execute_result"
    }
   ],
   "source": [
    "pe_mo_historical.describe()"
   ]
  },
  {
   "cell_type": "code",
   "execution_count": 62,
   "metadata": {},
   "outputs": [
    {
     "data": {
      "text/html": [
       "<div>\n",
       "<style scoped>\n",
       "    .dataframe tbody tr th:only-of-type {\n",
       "        vertical-align: middle;\n",
       "    }\n",
       "\n",
       "    .dataframe tbody tr th {\n",
       "        vertical-align: top;\n",
       "    }\n",
       "\n",
       "    .dataframe thead th {\n",
       "        text-align: right;\n",
       "    }\n",
       "</style>\n",
       "<table border=\"1\" class=\"dataframe\">\n",
       "  <thead>\n",
       "    <tr style=\"text-align: right;\">\n",
       "      <th>Unnamed: 0</th>\n",
       "      <th>P/E</th>\n",
       "      <th>M/O</th>\n",
       "      <th>P/E Z-score</th>\n",
       "    </tr>\n",
       "  </thead>\n",
       "  <tbody>\n",
       "    <tr>\n",
       "      <th>1950</th>\n",
       "      <td>7.0</td>\n",
       "      <td>1.74</td>\n",
       "      <td>-1.273763</td>\n",
       "    </tr>\n",
       "    <tr>\n",
       "      <th>1951</th>\n",
       "      <td>9.6</td>\n",
       "      <td>1.73</td>\n",
       "      <td>-0.965775</td>\n",
       "    </tr>\n",
       "    <tr>\n",
       "      <th>1952</th>\n",
       "      <td>10.9</td>\n",
       "      <td>1.72</td>\n",
       "      <td>-0.811780</td>\n",
       "    </tr>\n",
       "    <tr>\n",
       "      <th>1953</th>\n",
       "      <td>9.9</td>\n",
       "      <td>1.71</td>\n",
       "      <td>-0.930237</td>\n",
       "    </tr>\n",
       "    <tr>\n",
       "      <th>1954</th>\n",
       "      <td>12.6</td>\n",
       "      <td>1.70</td>\n",
       "      <td>-0.610403</td>\n",
       "    </tr>\n",
       "  </tbody>\n",
       "</table>\n",
       "</div>"
      ],
      "text/plain": [
       "Unnamed: 0   P/E   M/O  P/E Z-score\n",
       "1950         7.0  1.74    -1.273763\n",
       "1951         9.6  1.73    -0.965775\n",
       "1952        10.9  1.72    -0.811780\n",
       "1953         9.9  1.71    -0.930237\n",
       "1954        12.6  1.70    -0.610403"
      ]
     },
     "execution_count": 62,
     "metadata": {},
     "output_type": "execute_result"
    }
   ],
   "source": [
    "# Remove the rows with a P/E Zscore > 3 or < -3\n",
    "\n",
    "pe_mo_historical_no_outliers = pe_mo_historical[(pe_mo_historical['P/E Z-score'] < 3) & (pe_mo_historical['P/E Z-score'] > -3)]\n",
    "pe_mo_historical_no_outliers.head()"
   ]
  },
  {
   "cell_type": "code",
   "execution_count": 63,
   "metadata": {},
   "outputs": [
    {
     "data": {
      "text/html": [
       "<div>\n",
       "<style scoped>\n",
       "    .dataframe tbody tr th:only-of-type {\n",
       "        vertical-align: middle;\n",
       "    }\n",
       "\n",
       "    .dataframe tbody tr th {\n",
       "        vertical-align: top;\n",
       "    }\n",
       "\n",
       "    .dataframe thead th {\n",
       "        text-align: right;\n",
       "    }\n",
       "</style>\n",
       "<table border=\"1\" class=\"dataframe\">\n",
       "  <thead>\n",
       "    <tr style=\"text-align: right;\">\n",
       "      <th>Unnamed: 0</th>\n",
       "      <th>P/E</th>\n",
       "      <th>M/O</th>\n",
       "      <th>P/E Z-score</th>\n",
       "    </tr>\n",
       "  </thead>\n",
       "  <tbody>\n",
       "    <tr>\n",
       "      <th>count</th>\n",
       "      <td>66.000000</td>\n",
       "      <td>66.000000</td>\n",
       "      <td>66.000000</td>\n",
       "    </tr>\n",
       "    <tr>\n",
       "      <th>mean</th>\n",
       "      <td>16.693939</td>\n",
       "      <td>1.572879</td>\n",
       "      <td>-0.125446</td>\n",
       "    </tr>\n",
       "    <tr>\n",
       "      <th>std</th>\n",
       "      <td>5.883533</td>\n",
       "      <td>0.271660</td>\n",
       "      <td>0.696947</td>\n",
       "    </tr>\n",
       "    <tr>\n",
       "      <th>min</th>\n",
       "      <td>7.000000</td>\n",
       "      <td>1.100000</td>\n",
       "      <td>-1.273763</td>\n",
       "    </tr>\n",
       "    <tr>\n",
       "      <th>25%</th>\n",
       "      <td>11.775000</td>\n",
       "      <td>1.317500</td>\n",
       "      <td>-0.708130</td>\n",
       "    </tr>\n",
       "    <tr>\n",
       "      <th>50%</th>\n",
       "      <td>17.300000</td>\n",
       "      <td>1.625000</td>\n",
       "      <td>-0.053654</td>\n",
       "    </tr>\n",
       "    <tr>\n",
       "      <th>75%</th>\n",
       "      <td>19.875000</td>\n",
       "      <td>1.717500</td>\n",
       "      <td>0.251373</td>\n",
       "    </tr>\n",
       "    <tr>\n",
       "      <th>max</th>\n",
       "      <td>32.600000</td>\n",
       "      <td>2.100000</td>\n",
       "      <td>1.758741</td>\n",
       "    </tr>\n",
       "  </tbody>\n",
       "</table>\n",
       "</div>"
      ],
      "text/plain": [
       "Unnamed: 0        P/E        M/O  P/E Z-score\n",
       "count       66.000000  66.000000    66.000000\n",
       "mean        16.693939   1.572879    -0.125446\n",
       "std          5.883533   0.271660     0.696947\n",
       "min          7.000000   1.100000    -1.273763\n",
       "25%         11.775000   1.317500    -0.708130\n",
       "50%         17.300000   1.625000    -0.053654\n",
       "75%         19.875000   1.717500     0.251373\n",
       "max         32.600000   2.100000     1.758741"
      ]
     },
     "execution_count": 63,
     "metadata": {},
     "output_type": "execute_result"
    }
   ],
   "source": [
    "# Notice that there are now 2 fewer data points after removing those with Z-scores > +/- 3\n",
    "pe_mo_historical_no_outliers.describe()"
   ]
  },
  {
   "cell_type": "markdown",
   "metadata": {},
   "source": [
    "# Note:  Removed P/E ratios that were more than 3 standard deviations from the mean of the data (i.e. ~ 99.7% of data is within 3 standard deviations)"
   ]
  },
  {
   "cell_type": "code",
   "execution_count": 64,
   "metadata": {},
   "outputs": [],
   "source": [
    "# Extract the new pe without the outliers data series to faciliate individual plotting\n",
    "\n",
    "pe_no_outliers = pe_mo_historical_no_outliers['P/E']\n",
    "mo_no_outliers = pe_mo_historical_no_outliers['M/O']"
   ]
  },
  {
   "cell_type": "code",
   "execution_count": 87,
   "metadata": {},
   "outputs": [
    {
     "data": {
      "image/png": "[encoded data removed]",
      "text/plain": [
       "<Figure size 1152x288 with 2 Axes>"
      ]
     },
     "metadata": {},
     "output_type": "display_data"
    }
   ],
   "source": [
    "# Create line plots to compare the original P/E data to the new P/E data without the outliers...hold y-axis limits constant\n",
    "\n",
    "plt.figure(figsize=(16,4))\n",
    "plt.subplots_adjust(wspace=.2)\n",
    "\n",
    "# Plot Original P/E Ratio \n",
    "plt.subplot(1,2,1)\n",
    "plt.plot(pe)\n",
    "plt.title('P/E Ratio - Original')\n",
    "plt.savefig('pe_original_line.png')\n",
    "# Plot Smoothed P/E Ratio \n",
    "plt.subplot(1,2,2)\n",
    "plt.plot(pe_no_outliers)\n",
    "plt.ylim(4.4, 61.6)\n",
    "plt.title('P/E Ratio - Outliers Removed')\n",
    "plt.savefig('pe_no_outliers.png')\n",
    "plt.show()"
   ]
  },
  {
   "cell_type": "code",
   "execution_count": 88,
   "metadata": {},
   "outputs": [
    {
     "data": {
      "image/png": "[encoded data removed]",
      "text/plain": [
       "<Figure size 1008x288 with 1 Axes>"
      ]
     },
     "metadata": {},
     "output_type": "display_data"
    }
   ],
   "source": [
    "# Examine scatter plots for M/O vs P/E with outliers removed\n",
    "\n",
    "plt.figure(figsize=(14,4))\n",
    "plt.subplots_adjust(wspace=.2)\n",
    "\n",
    "# Scatter Plot for M/O vs P/E Ratio \n",
    "plt.subplot(1,2,1)\n",
    "plt.scatter(pe_mo_historical_no_outliers['P/E'],pe_mo_historical_no_outliers['M/O'])\n",
    "plt.xlabel('M/O Ratio')\n",
    "plt.ylabel('P/E Ratio')\n",
    "plt.title('M/O Ratio vs P/E Ratio without outliers (1950 - 2017)')\n",
    "plt.savefig('mo_pe_no_outliers.png')\n",
    "plt.show()"
   ]
  },
  {
   "cell_type": "markdown",
   "metadata": {},
   "source": [
    "# Redo the correlation analysis on the data set with the outliers removed\n",
    "    # Analyze the correlation (Pearson coefficient) between M/O and PE with outliers removed"
   ]
  },
  {
   "cell_type": "code",
   "execution_count": 67,
   "metadata": {},
   "outputs": [
    {
     "name": "stdout",
     "output_type": "stream",
     "text": [
      "Pearson r-value is: 0.50\n",
      "Pearson p-value is: 0.000024\n"
     ]
    }
   ],
   "source": [
    "# Perform the Pearson Correlation using the scipy.stats module because this provides both r and p values\n",
    "\n",
    "output = list(stats.pearsonr(pe_no_outliers, mo_no_outliers))\n",
    "\n",
    "print(f'Pearson r-value is: {output[0]:.2f}')\n",
    "print(f'Pearson p-value is: {output[1]:.6f}')"
   ]
  },
  {
   "cell_type": "markdown",
   "metadata": {},
   "source": [
    "# Interpretation of this Pearson Correlation is:\n",
    "    # Moderate correlation based on r-value of .50 has,  as expected, improved following the removal of the 2 outliers\n",
    "    # Reject the null hypothesis and conclude that the correlation between M/O and P/E is statistically significant based\n",
    "        #on p-value\n",
    "    # We will use this data as the basis for our model to predict the future P/E ratios from the future M/O (age) demographic"
   ]
  },
  {
   "cell_type": "markdown",
   "metadata": {},
   "source": [
    "# Scale and Standardize the data\n",
    "    # As pre-requesite to input the data in a machine learning model to derive the prediction, scale and standardize the data"
   ]
  },
  {
   "cell_type": "code",
   "execution_count": 90,
   "metadata": {},
   "outputs": [
    {
     "data": {
      "image/png": "[encoded data removed]",
      "text/plain": [
       "<Figure size 1152x576 with 4 Axes>"
      ]
     },
     "metadata": {},
     "output_type": "display_data"
    }
   ],
   "source": [
    "# Scale the data:  Scaled data has zero mean and unit variance (i.e. variance = 1)\n",
    "\n",
    "pe_no_outliers_scale = preprocessing.scale(pe_no_outliers)\n",
    "mo_no_outliers_scale = preprocessing.scale(mo_no_outliers)\n",
    "\n",
    "# Create line plots for individual data series\n",
    "\n",
    "plt.figure(figsize=(16,8))\n",
    "plt.subplots_adjust(wspace=.2)\n",
    "\n",
    "# Plot P/E Ratio (no outliers)\n",
    "plt.subplot(2,2,1)\n",
    "plt.plot(pe_no_outliers)\n",
    "plt.title('P/E Ratio - no outliers')\n",
    "plt.savefig('pe_r_line.png')\n",
    "# Plot M/O Ratio (no outliers)\n",
    "plt.subplot(2,2,2)\n",
    "plt.plot(mo_no_outliers)\n",
    "plt.title('M/O Ratio - no outliers')\n",
    "plt.savefig('mo_r_line.png')\n",
    "# Plot Scaled P/E Ratio (no outliers)\n",
    "plt.subplot(2,2,3)\n",
    "plt.plot(pe_no_outliers_scale)\n",
    "plt.title('Scaled P/E Ratio - no outliers')\n",
    "plt.savefig('scaled_pe.png')\n",
    "# Plot Scaled M/O Ratio (no outliers)\n",
    "plt.subplot(2,2,4)\n",
    "plt.plot(mo_no_outliers_scale)\n",
    "plt.title('Scaled M/O Ratio - no outliers')\n",
    "plt.savefig('scaled_mo.png')\n",
    "plt.show()"
   ]
  },
  {
   "cell_type": "markdown",
   "metadata": {},
   "source": [
    "# Scatter plot for the scaled M/O Ratio vs the Scaled P/E Ratio"
   ]
  },
  {
   "cell_type": "code",
   "execution_count": 89,
   "metadata": {},
   "outputs": [
    {
     "data": {
      "image/png": "[encoded data removed]",
      "text/plain": [
       "<Figure size 432x288 with 1 Axes>"
      ]
     },
     "metadata": {},
     "output_type": "display_data"
    }
   ],
   "source": [
    "# Scatter Plot for Scaled M/O vs Scaled  P/E Ratio \n",
    "\n",
    "plt.scatter(mo_no_outliers_scale, pe_no_outliers_scale)\n",
    "plt.xlabel('Scaled - M/O Ratio')\n",
    "plt.ylabel('Scaled - P/E Ratio')\n",
    "plt.title('Scaled - M/O Ratio vs P/E Ratio (1950 - 2017) - No Outliers')\n",
    "plt.savefig('scaled_mo_pe_r.png')\n",
    "plt.show()"
   ]
  },
  {
   "cell_type": "code",
   "execution_count": 70,
   "metadata": {},
   "outputs": [
    {
     "name": "stdout",
     "output_type": "stream",
     "text": [
      "Pearson r-value is: 0.50\n",
      "Pearson p-value is: 0.000024\n"
     ]
    }
   ],
   "source": [
    "# Perform the Pearson Correlation using the scipy.stats module because this provides both r and p values\n",
    "    # As expected, the resulting r and p values are the same as those from the analysis pre-scaling...\n",
    "\n",
    "output = list(stats.pearsonr(pe_no_outliers_scale, mo_no_outliers_scale))\n",
    "\n",
    "print(f'Pearson r-value is: {output[0]:.2f}')\n",
    "print(f'Pearson p-value is: {output[1]:.6f}')"
   ]
  },
  {
   "cell_type": "markdown",
   "metadata": {},
   "source": [
    "# Create the Projection Model for P/E Ratio given M/O and chart"
   ]
  },
  {
   "cell_type": "code",
   "execution_count": 71,
   "metadata": {},
   "outputs": [],
   "source": [
    "# Separate the dataset into training and test data\n",
    "\n",
    "x_train = mo_no_outliers_scale[:-10] # take all but the last 10 data points to use for training the model\n",
    "y_train = pe_no_outliers_scale[:-10]\n",
    "\n",
    "x_test = mo_no_outliers_scale[-10:] # take the first 10 data points to use for testing the model\n",
    "y_test = pe_no_outliers_scale[-10:]\n"
   ]
  },
  {
   "cell_type": "code",
   "execution_count": 72,
   "metadata": {},
   "outputs": [
    {
     "data": {
      "text/plain": [
       "array([0.61989882, 0.38427455])"
      ]
     },
     "execution_count": 72,
     "metadata": {},
     "output_type": "execute_result"
    }
   ],
   "source": [
    "# Try Polynomial Regression to develop a model that can be used to predict (Use Scaled with no outliers)\n",
    "X = x_train.reshape(-1, 1) \n",
    "y = y_train.reshape(-1, 1)\n",
    "\n",
    "poly_features = PolynomialFeatures(degree=2, include_bias=False)\n",
    "X_poly = poly_features.fit_transform(X) # X_poly contains the original X and the square of X...now fit a linear regression\n",
    "X_poly[0]"
   ]
  },
  {
   "cell_type": "code",
   "execution_count": 73,
   "metadata": {},
   "outputs": [
    {
     "data": {
      "text/plain": [
       "array([-1.66026488])"
      ]
     },
     "execution_count": 73,
     "metadata": {},
     "output_type": "execute_result"
    }
   ],
   "source": [
    "y[0]"
   ]
  },
  {
   "cell_type": "code",
   "execution_count": 74,
   "metadata": {},
   "outputs": [
    {
     "data": {
      "text/plain": [
       "(array([-0.39122301]), array([[0.70610253, 0.18822127]]))"
      ]
     },
     "execution_count": 74,
     "metadata": {},
     "output_type": "execute_result"
    }
   ],
   "source": [
    "# Linear regression\n",
    "lin_reg = LinearRegression()\n",
    "lin_reg.fit(X_poly, y)\n",
    "lin_reg.intercept_, lin_reg.coef_"
   ]
  },
  {
   "cell_type": "markdown",
   "metadata": {},
   "source": [
    "# Plot Prediction of P/E Ratio from M/O Ratio projections through 2060"
   ]
  },
  {
   "cell_type": "code",
   "execution_count": null,
   "metadata": {},
   "outputs": [],
   "source": []
  }
 ],
 "metadata": {
  "kernelspec": {
   "display_name": "Python [conda env:PythonData]",
   "language": "python",
   "name": "conda-env-PythonData-py"
  },
  "language_info": {
   "codemirror_mode": {
    "name": "ipython",
    "version": 3
   },
   "file_extension": ".py",
   "mimetype": "text/x-python",
   "name": "python",
   "nbconvert_exporter": "python",
   "pygments_lexer": "ipython3",
   "version": "3.6.5"
  }
 },
 "nbformat": 4,
 "nbformat_minor": 2
}
